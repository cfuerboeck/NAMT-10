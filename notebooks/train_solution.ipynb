{
 "cells": [
  {
   "cell_type": "markdown",
   "metadata": {},
   "source": [
    "# Training script for NAMT-10 Hackathon\n",
    "**Learning outcome:** Train a classification model (one vs. all)\n",
    "<br> \n",
    "Therefore, use the CheXpertDataLoader from the first day and use it for training and evaluating your model.\n",
    "<br>\n",
    "<br>\n",
    "\n",
    "Some challenges, you should keep in mind:\n",
    "1. What can you do to handle data imbalance? <font color=\"green\">*Oversampling minority class, weighted cross-entropy loss*</font> \n",
    "2. What can you do to learn from few samples and how can you prevent overfitting? <font color=\"green\">*Data augmentation, pre-trained models, early stopping*</font> \n"
   ]
  },
  {
   "cell_type": "markdown",
   "metadata": {},
   "source": [
    "<font color=\"green\">*In baseline script only accuracy_score is imported from sklearn.metrics*</font> "
   ]
  },
  {
   "cell_type": "code",
   "execution_count": 34,
   "metadata": {},
   "outputs": [],
   "source": [
    "import logging\n",
    "import os\n",
    "import random\n",
    "import sys\n",
    "import argparse\n",
    "import json\n",
    "import pickle\n",
    "import time\n",
    "import inspect\n",
    "from pathlib import Path\n",
    "import numpy as np\n",
    "import torch\n",
    "from torch.optim.lr_scheduler import OneCycleLR\n",
    "from torch.utils.tensorboard import SummaryWriter\n",
    "\n",
    "from tqdm.notebook import tqdm\n",
    "import timm\n",
    "import timm.optim\n",
    "\n",
    "\n",
    "from sklearn.metrics import (\n",
    "    accuracy_score,\n",
    "    balanced_accuracy_score,\n",
    "    f1_score,\n",
    "    precision_score,\n",
    "    recall_score,\n",
    "    precision_recall_curve,\n",
    "    roc_curve,\n",
    "    auc,\n",
    "    classification_report)\n",
    "\n",
    "                 \n",
    "from key2med.data.loader import CheXpertDataLoader, ColorCheXpertDataLoader, StudiesDataLoader\n",
    "from key2med.models.CBRTiny import CBRTiny\n",
    "   "
   ]
  },
  {
   "cell_type": "code",
   "execution_count": 35,
   "metadata": {},
   "outputs": [],
   "source": [
    "# Set logger \n",
    "logger = logging.getLogger(__name__)"
   ]
  },
  {
   "cell_type": "markdown",
   "metadata": {},
   "source": [
    "## Define some basic functions\n",
    "### Functions for saving / loading pickle objects\n",
    "During training we want to save the current epoch, training and validation loss, etc. to monitor our model performance"
   ]
  },
  {
   "cell_type": "code",
   "execution_count": 36,
   "metadata": {},
   "outputs": [],
   "source": [
    "def save_obj_pkl(path, obj):\n",
    "    with open( path, 'wb') as f:\n",
    "        pickle.dump(obj, f, pickle.HIGHEST_PROTOCOL)\n",
    "\n",
    "def load_obj_pkl(path ):\n",
    "    with open( path, 'rb') as f:\n",
    "        return pickle.load(f)"
   ]
  },
  {
   "cell_type": "markdown",
   "metadata": {},
   "source": [
    "### Functions for evaluating your model\n",
    "You can either write your own evaluation metris and save it as a metric_dict or use pre-defined metrics from sklearn\n",
    "<br>\n",
    "**Which metrics are suitable to evaluate your model performance?**\n",
    "<br>\n",
    "<font color=\"green\">*In baseline script, only accuracy is used*</font> "
   ]
  },
  {
   "cell_type": "code",
   "execution_count": 37,
   "metadata": {},
   "outputs": [],
   "source": [
    "# Define evaluation metrics you want to use    \n",
    "def get_metric_dict(preds, y_true, y_pred):\n",
    " \n",
    "    metric_dict = {'Num_samples':len(y_true)}\n",
    "    metric_dict['Num'] = int(y_true.sum())\n",
    "    metric_dict['Acc'] = accuracy_score(y_true, y_pred)\n",
    "    metric_dict['bAcc'] = balanced_accuracy_score(y_true, y_pred)\n",
    "    metric_dict['Precision'] =  precision_score(y_true=y_true, y_pred=y_pred, zero_division = 0)\n",
    "    metric_dict['Recall'] =  recall_score(y_true=y_true, y_pred=y_pred, zero_division = 0)\n",
    "    metric_dict['F1'] =  f1_score(y_true=y_true, y_pred=y_pred, zero_division = 0)\n",
    "    # https://scikit-learn.org/stable/modules/generated/sklearn.metrics.classification_report.html\n",
    "    #Note that in binary classification, recall of the positive class is also known as “sensitivity”; recall of the negative class is “specificity”.\n",
    "    metric_dict['Sensitivity'] =  recall_score(y_true=y_true, y_pred=y_pred, zero_division = 0)\n",
    "    metric_dict['Specificity'] =  recall_score(y_true=~(y_true>0), y_pred=~(y_pred>0), zero_division = 0)\n",
    "    fpr, tpr, _ = roc_curve(y_true, preds[:,1])\n",
    "    metric_dict['AUC'] = auc(fpr, tpr)\n",
    "\n",
    "    return metric_dict\n",
    "\n",
    "# Define a evaluation function \n",
    "def eval_model(args, model, dataloader, dataset='valid'):\n",
    "    \n",
    "    model.eval()\n",
    "    \n",
    "    preds = []\n",
    "    y_preds = []\n",
    "    y_true = []\n",
    "    for batch in dataloader:\n",
    "        inputs, targets = batch\n",
    "        inputs = inputs.to(args['device'])\n",
    "        targets = targets.squeeze(dim=1).detach().cpu().numpy()\n",
    "        y_true += list(targets)\n",
    "        cur_preds = torch.nn.functional.softmax(model(inputs), dim=-1).detach().cpu().numpy()\n",
    "        preds += list(cur_preds)\n",
    "        y_preds += list( (cur_preds[:,1] > 0.5).astype(int))\n",
    "        \n",
    "    preds, y_preds, y_true =  np.asarray(preds), np.asarray(y_preds), np.asarray(y_true)\n",
    "    metric_dict = get_metric_dict(preds, y_true, y_preds)\n",
    "    with open(args['output_dir']+f'results_{dataset}_{args[\"class_positive\"]}.json', 'w', encoding='utf-8') as file:\n",
    "        json.dump(metric_dict, file, indent=2)\n",
    "    with open(args['output_dir']+f'results_{dataset}_{args[\"class_positive\"]}.pkl', 'wb') as file:\n",
    "        pickle.dump([metric_dict, y_true, y_preds, preds], file)"
   ]
  },
  {
   "cell_type": "markdown",
   "metadata": {},
   "source": [
    "## Set default training settings\n",
    "For example define data path, batch size, number of epochs, etc.\n",
    "<br>\n",
    "Also specify here the class you are working with (Edema, Atelectasis, Cardiomegaly, Consolidation, Pleural Effusion)\n",
    "<br>\n",
    "<font color=\"green\">*In baseline script do_weight_loss_even, do_upsample, do_early_stopping and early_stopping_patience don't exist*</font> "
   ]
  },
  {
   "cell_type": "code",
   "execution_count": 38,
   "metadata": {},
   "outputs": [
    {
     "data": {
      "text/plain": [
       "{'seed': 42,\n",
       " 'data_dir': '/home/admin_ml/NAMT/data/CheXpert-v1.0-small',\n",
       " 'class_positive': 'Edema',\n",
       " 'channel_in': 3,\n",
       " 'freeze': True,\n",
       " 'model_to_load_dir': None,\n",
       " 'output_dir': '/home/admin_ml/NAMT/training_output/',\n",
       " 'num_epochs': 10,\n",
       " 'max_steps': 100,\n",
       " 'do_train': True,\n",
       " 'max_dataloader_size': None,\n",
       " 'view': 'Frontal',\n",
       " 'batch_size': 24,\n",
       " 'num_workers': 4,\n",
       " 'lr': 0.001,\n",
       " 'wd': 1e-06,\n",
       " 'do_eval': True,\n",
       " 'eval_steps': 500,\n",
       " 'do_weight_loss_even': True,\n",
       " 'do_upsample': True,\n",
       " 'no_cuda': False,\n",
       " 'do_early_stopping': False,\n",
       " 'early_stopping_patience': 10,\n",
       " 'basePath': '/home/admin_ml/NAMT/',\n",
       " 'device': device(type='cuda', index=0)}"
      ]
     },
     "execution_count": 38,
     "metadata": {},
     "output_type": "execute_result"
    }
   ],
   "source": [
    "args = {'seed': 42, # Set seed number if you want to reproduce results, else set it to None\n",
    "        'data_dir': '/home/admin_ml/NAMT/data/CheXpert-v1.0-small', # path to Chexpert data\n",
    "        'class_positive': 'Edema', # Set class name you are working on for one vs. all classification\n",
    "        'channel_in': 3, # Number of input channels (3 because of color for pre-trained imagenet)\n",
    "        'freeze': True, # freeze model weights (if you use pre-trained model)\n",
    "        'model_to_load_dir': None, # model path, if you want to continue training\n",
    "        'output_dir': None,\n",
    "        'num_epochs': 10, # number of epochs for training the model\n",
    "        'max_steps': 100, # Total number of training steps. Low number for debugging, negative number for no limit.\n",
    "        'do_train': True, \n",
    "        'max_dataloader_size': None, # Set to low number for debugging. default = None (no limit) \n",
    "        'view': 'Frontal', # For DataLoader, do you want to load Frontal, Lateral or both views?\n",
    "        'batch_size': 24,\n",
    "        'num_workers': 4, # For DataLoader\n",
    "        'lr': 1e-3, # initial learning rate \n",
    "        'wd': 1e-6, # weight decay \n",
    "        'do_eval': True, # set to True if validation and test data should be evaluated after training\n",
    "        'eval_steps': 500, # Number of batches/steps to eval. Default 500.\n",
    "        'do_weight_loss_even': True, # Set to true if you want to use weighted loss function\n",
    "        'do_upsample': True,\n",
    "        'no_cuda': False,\n",
    "        'do_early_stopping': False, # Set to true, if you want to use early stopping \n",
    "        'early_stopping_patience': 10 # Stop training if after x steps validation loss has not increased \n",
    "       }\n",
    "\n",
    "\n",
    "args['basePath'] = os.path.dirname(os.path.realpath(globals()['_dh'][0]))+os.sep\n",
    "\n",
    "if args['output_dir'] is None:\n",
    "    args['output_dir'] = f'{args[\"basePath\"]}training_output{os.sep}'\n",
    "else:\n",
    "    if args['output_dir'][-1] != os.sep: args['output_dir'] += os.sep\n",
    "\n",
    "if args['model_to_load_dir'] is not None:\n",
    "    if args['model_to_load_dir'][-1] != os.sep: args['model_to_load_dir'] += os.sep\n",
    "\n",
    "# set device (cuda if available or cpu)\n",
    "args['device'] = torch.device('cuda:0' if (torch.cuda.is_available() and not args['no_cuda']) else 'cpu')   \n",
    " \n",
    "args"
   ]
  },
  {
   "cell_type": "markdown",
   "metadata": {},
   "source": [
    "Setup logging"
   ]
  },
  {
   "cell_type": "code",
   "execution_count": 39,
   "metadata": {},
   "outputs": [],
   "source": [
    "# Setup logging\n",
    "logging.basicConfig(\n",
    "    format=\"%(asctime)s - %(levelname)s - %(name)s - %(message)s\",\n",
    "    datefmt=\"%m/%d/%Y %H:%M:%S\",\n",
    "    handlers=[logging.StreamHandler(sys.stdout)],\n",
    "    filename=args['output_dir']+'train.log',\n",
    "    filemode='w',)"
   ]
  },
  {
   "cell_type": "markdown",
   "metadata": {},
   "source": [
    "Set seed if args['seed'] is not None, to reproduce your results later on"
   ]
  },
  {
   "cell_type": "code",
   "execution_count": 40,
   "metadata": {},
   "outputs": [
    {
     "name": "stderr",
     "output_type": "stream",
     "text": [
      "2022-02-14 13:47:23 Qilab-003 __main__[545493] INFO Applying seed 42\n"
     ]
    }
   ],
   "source": [
    "g = None # Generator for seed\n",
    "worker_init_fn = None\n",
    "if args['seed'] is not None:\n",
    "    logger.info(f'Applying seed {args[\"seed\"]}')\n",
    "    #https://pytorch.org/docs/stable/notes/randomness.html\n",
    "    torch.manual_seed(args['seed'])\n",
    "    random.seed(args['seed'])\n",
    "    np.random.seed(args['seed'])\n",
    "    g = torch.Generator()\n",
    "    g.manual_seed(args['seed'])"
   ]
  },
  {
   "cell_type": "markdown",
   "metadata": {},
   "source": [
    "## Reading in the data\n",
    "Use the ColorChexpetDataLoader from key2med.data.loader\n",
    "<br>\n",
    "<font color=\"green\">*In baseline scirpt use_upsampling and upsample_labels don't exist*</font> "
   ]
  },
  {
   "cell_type": "code",
   "execution_count": 41,
   "metadata": {},
   "outputs": [
    {
     "name": "stderr",
     "output_type": "stream",
     "text": [
      "2022-02-14 13:47:24 Qilab-003 key2med.data.datasets[545493] INFO Found labels in /home/admin_ml/NAMT/data/CheXpert-v1.0-small/train.csv: ['Edema']\n",
      "Reading label csv file /home/admin_ml/NAMT/data/CheXpert-v1.0-small/train.csv: 223414it [00:05, 42463.49it/s]\n",
      "2022-02-14 13:47:31 Qilab-003 key2med.data.datasets[545493] INFO Reading data from cache file /home/admin_ml/NAMT/data/CheXpert-v1.0-small/cache/53d9231c52e3f5e3e18101b1f7ab219745cb9d358f16ce0398d4c8d5082761c1\n",
      "2022-02-14 13:47:31 Qilab-003 key2med.data.datasets[545493] INFO Found data of size (3, 224, 224) in file /home/admin_ml/NAMT/data/CheXpert-v1.0-small/cache/53d9231c52e3f5e3e18101b1f7ab219745cb9d358f16ce0398d4c8d5082761c1\n",
      "2022-02-14 13:47:31 Qilab-003 key2med.data.datasets[545493] INFO Found labels in /home/admin_ml/NAMT/data/CheXpert-v1.0-small/train.csv: ['Edema']\n",
      "Reading label csv file /home/admin_ml/NAMT/data/CheXpert-v1.0-small/train.csv: 223414it [00:04, 48511.23it/s]\n",
      "2022-02-14 13:47:36 Qilab-003 key2med.data.datasets[545493] INFO Reading data from cache file /home/admin_ml/NAMT/data/CheXpert-v1.0-small/cache/53d9231c52e3f5e3e18101b1f7ab219745cb9d358f16ce0398d4c8d5082761c1\n",
      "2022-02-14 13:47:36 Qilab-003 key2med.data.datasets[545493] INFO Found data of size (3, 224, 224) in file /home/admin_ml/NAMT/data/CheXpert-v1.0-small/cache/53d9231c52e3f5e3e18101b1f7ab219745cb9d358f16ce0398d4c8d5082761c1\n",
      "2022-02-14 13:47:36 Qilab-003 key2med.data.datasets[545493] INFO Found labels in /home/admin_ml/NAMT/data/CheXpert-v1.0-small/valid.csv: ['Edema']\n",
      "Reading label csv file /home/admin_ml/NAMT/data/CheXpert-v1.0-small/valid.csv: 234it [00:00, 52158.53it/s]\n",
      "2022-02-14 13:47:36 Qilab-003 key2med.data.datasets[545493] INFO Reading data from cache file /home/admin_ml/NAMT/data/CheXpert-v1.0-small/cache/16282fc555489a06afad73c0036fbd0ca85ac766cc086cbb45fc7aede4a930ff\n",
      "2022-02-14 13:47:36 Qilab-003 key2med.data.datasets[545493] INFO Found data of size (3, 224, 224) in file /home/admin_ml/NAMT/data/CheXpert-v1.0-small/cache/16282fc555489a06afad73c0036fbd0ca85ac766cc086cbb45fc7aede4a930ff\n"
     ]
    },
    {
     "name": "stdout",
     "output_type": "stream",
     "text": [
      "216,683 samples for training\n",
      "19,040 samples for validation\n",
      "202 samples for testing\n"
     ]
    }
   ],
   "source": [
    "dataloader = ColorCheXpertDataLoader( #CheXpertDataLoader #for 1 ch\n",
    "        data_path=args['data_dir'],\n",
    "        batch_size=args['batch_size'],\n",
    "        img_resize=224,\n",
    "        splits=\"train_valid_test\",\n",
    "        channels=args['channel_in'],\n",
    "        do_random_transform=True,\n",
    "        use_cache=True, #False\n",
    "        in_memory=False, #True\n",
    "        max_size= args['max_dataloader_size'],\n",
    "        use_upsampling = args['do_upsample'],\n",
    "        upsample_labels = [args['class_positive']],\n",
    "        plot_stats=False,\n",
    "        n_workers=args['num_workers'],\n",
    "        frontal_lateral_values = [args['view']], \n",
    "        label_filter = [args['class_positive']],\n",
    "        uncertain_to_one = [args['class_positive']],\n",
    "        uncertain_to_zero = [],\n",
    "    )"
   ]
  },
  {
   "cell_type": "markdown",
   "metadata": {},
   "source": [
    "## Define the model you want to use for training\n",
    "You can use here your own implemented model or the CBRTiny model by Raghu et al. (https://arxiv.org/pdf/1902.07208.pdf), which is already implemented (from key2med.models.CBRTiny import CBRTiny)"
   ]
  },
  {
   "cell_type": "code",
   "execution_count": 42,
   "metadata": {},
   "outputs": [],
   "source": [
    "model = CBRTiny(num_classes=2, channel_in=args['channel_in']).to(args['device'])"
   ]
  },
  {
   "cell_type": "markdown",
   "metadata": {},
   "source": [
    "Another option is to use the timm library, where many well-known models are already implemented.\n",
    "<br>\n",
    "You can find the timm documentation here: https://fastai.github.io/timmdocs/\n",
    "<br>\n",
    "You can call up for example all existing pretrained efficient models in this way:"
   ]
  },
  {
   "cell_type": "code",
   "execution_count": 43,
   "metadata": {},
   "outputs": [
    {
     "data": {
      "text/plain": [
       "(15,\n",
       " ['efficientnet_b0',\n",
       "  'efficientnet_b1',\n",
       "  'efficientnet_b1_pruned',\n",
       "  'efficientnet_b2',\n",
       "  'efficientnet_b2_pruned'])"
      ]
     },
     "execution_count": 43,
     "metadata": {},
     "output_type": "execute_result"
    }
   ],
   "source": [
    "avail_pretrained_models = timm.list_models('eff*',pretrained=True)\n",
    "# List number of all found models and the first five models\n",
    "len(avail_pretrained_models), avail_pretrained_models[:5]"
   ]
  },
  {
   "cell_type": "markdown",
   "metadata": {},
   "source": [
    "We use here for example the efficientnetb0 model, pretrained on ImageNet (Set num_classes to 2 for one vs. all classification):"
   ]
  },
  {
   "cell_type": "code",
   "execution_count": 44,
   "metadata": {},
   "outputs": [
    {
     "name": "stderr",
     "output_type": "stream",
     "text": [
      "2022-02-14 13:47:36 Qilab-003 timm.models.helpers[545493] INFO Loading pretrained weights from url (https://github.com/rwightman/pytorch-image-models/releases/download/v0.1-weights/efficientnet_b0_ra-3dd342df.pth)\n"
     ]
    }
   ],
   "source": [
    "model = timm.create_model('efficientnet_b0', num_classes=2, in_chans=args['channel_in'], pretrained=True).to(args['device'])"
   ]
  },
  {
   "cell_type": "markdown",
   "metadata": {},
   "source": [
    "If you have already startet the training, you can load the last checkpoint in this way:"
   ]
  },
  {
   "cell_type": "code",
   "execution_count": 45,
   "metadata": {},
   "outputs": [],
   "source": [
    "if args['model_to_load_dir'] is not None:\n",
    "    checkpoint = torch.load(osp.join(args['model_to_load_dir'], 'best_model.pth'))\n",
    "    model.load_state_dict(checkpoint['model_state_dict'])"
   ]
  },
  {
   "cell_type": "markdown",
   "metadata": {},
   "source": [
    "<font color=\"green\">**What can you do to prevent overfitting?**\n",
    "<br>\n",
    "If you use a pre-trained model, you can for example only train the classification layer and freeze all other model weights</font>"
   ]
  },
  {
   "cell_type": "code",
   "execution_count": 46,
   "metadata": {},
   "outputs": [
    {
     "name": "stderr",
     "output_type": "stream",
     "text": [
      "2022-02-14 13:47:36 Qilab-003 __main__[545493] INFO Freezing model\n"
     ]
    }
   ],
   "source": [
    "if args['freeze']:\n",
    "    logger.info(f'Freezing model')\n",
    "    args['output_dir'] += 'frozen'+os.sep\n",
    "    for name, param in model.named_parameters():\n",
    "        if 'classifier' not in name:    param.requires_grad = False\n",
    "else:\n",
    "    args['output_dir'] += 'unfrozen'+os.sep"
   ]
  },
  {
   "cell_type": "markdown",
   "metadata": {},
   "source": [
    "## Define optimizer and learning rate scheduler\n",
    "With timm library you can also use many pred-defined optimizers.\n",
    "<br>\n",
    "List all available optimizers:"
   ]
  },
  {
   "cell_type": "code",
   "execution_count": 47,
   "metadata": {},
   "outputs": [
    {
     "data": {
      "text/plain": [
       "['AdaBelief',\n",
       " 'Adafactor',\n",
       " 'Adahessian',\n",
       " 'AdamP',\n",
       " 'AdamW',\n",
       " 'Nadam',\n",
       " 'NovoGrad',\n",
       " 'NvNovoGrad',\n",
       " 'RAdam',\n",
       " 'RMSpropTF',\n",
       " 'SGDP']"
      ]
     },
     "execution_count": 47,
     "metadata": {},
     "output_type": "execute_result"
    }
   ],
   "source": [
    "[cls_name for cls_name, cls_obj in inspect.getmembers(timm.optim) if inspect.isclass(cls_obj) if cls_name !='Lookahead']"
   ]
  },
  {
   "cell_type": "markdown",
   "metadata": {},
   "source": [
    "Here, we use for example the *AdamP* Optimizer"
   ]
  },
  {
   "cell_type": "code",
   "execution_count": 48,
   "metadata": {},
   "outputs": [],
   "source": [
    "optimizer = timm.optim.create_optimizer_v2(model,\n",
    "                                           optimizer_name='AdamP',\n",
    "                                           learning_rate=args['lr'],\n",
    "                                           weight_decay=args['wd'])"
   ]
  },
  {
   "cell_type": "markdown",
   "metadata": {},
   "source": [
    "Now we define a learning rate scheduler using pytorch (for more infos https://pytorch.org/docs/stable/optim.html)\n",
    "<br>\n",
    "We can use for example the One Cylce Learning Rate Scheduler:"
   ]
  },
  {
   "cell_type": "code",
   "execution_count": 49,
   "metadata": {},
   "outputs": [],
   "source": [
    "num_steps = args['num_epochs']*len(dataloader.train) if args['max_steps']<0 else args['max_steps'] #for Debug !\n",
    "scheduler = torch.optim.lr_scheduler.OneCycleLR(optimizer,\n",
    "                                                max_lr=args['lr'],\n",
    "                                                total_steps=num_steps)  "
   ]
  },
  {
   "cell_type": "markdown",
   "metadata": {},
   "source": [
    "## Use tensorboard for monitoring your model performance\n",
    "To do this, you need to set up a *SummaryWriter* that stores the current epoch count, current learning rate, training and validation loss, and current time.\n",
    "<br>\n",
    "Also, we store everything in the dictionary *writer_dict*, so you can create your own plots at the end."
   ]
  },
  {
   "cell_type": "code",
   "execution_count": 50,
   "metadata": {},
   "outputs": [],
   "source": [
    "Path(args['output_dir']).mkdir(parents=True, exist_ok=True)  \n",
    "\n",
    "writer = SummaryWriter(args['output_dir']+os.sep+'runs')\n",
    "writer_dict = {\n",
    "                'epochs': [],#np.zeros(howOftenValid*howOftenRepeat,dtype=int),\n",
    "                'lr': [], #np.zeros(howOftenValid*howOftenRepeat),\n",
    "                'loss_train': [],#np.zeros(howOftenValid*howOftenRepeat),\n",
    "                'loss_valid': [],#np.zeros(howOftenValid*howOftenRepeat),\n",
    "                'walltime': [],#np.zeros(howOftenValid*howOftenRepeat)\n",
    "                }"
   ]
  },
  {
   "cell_type": "markdown",
   "metadata": {},
   "source": [
    "## Define loss function\n",
    "You can for example use the cross entropy loss for a classification task\n",
    "<br>\n",
    "<br>\n",
    "<font color=\"green\">**What can you do here for handling class imbalance?**\n",
    "<br>\n",
    "For handling class imbalance, you can for example use a weighted cross entropy loss.\n",
    "<br>\n",
    "You can finde more details on the implementation here: https://discuss.pytorch.org/t/weights-in-weighted-loss-nn-crossentropyloss/69514/2</font> \n"
   ]
  },
  {
   "cell_type": "code",
   "execution_count": 51,
   "metadata": {},
   "outputs": [
    {
     "name": "stderr",
     "output_type": "stream",
     "text": [
      "2022-02-14 13:47:43 Qilab-003 __main__[545493] INFO LOSS WEIGHTS: tensor([0.4616, 0.5384], device='cuda:0')\n"
     ]
    }
   ],
   "source": [
    "# Calculate weights for weighted cross entropy loss\n",
    "args['loss_weights'] = [1, 1]\n",
    "if args['do_weight_loss_even']:\n",
    "     #https://discuss.pytorch.org/t/weights-in-weighted-loss-nn-crossentropyloss/69514/2\n",
    "    num_total = len(dataloader.train.dataset.all_labels())\n",
    "    num_pos = sum(dataloader.train.dataset.all_labels())\n",
    "    num_neg = num_total-num_pos\n",
    "    args['loss_weights'] = [1 - (x / num_total) for x in [ num_neg, num_pos ] ]\n",
    "\n",
    "args['loss_weights'] = torch.tensor(args['loss_weights']).float().cuda()\n",
    "logger.info(f'LOSS WEIGHTS: {args[\"loss_weights\"]}')\n",
    "\n",
    "# Define cross entropy loss\n",
    "loss_function = torch.nn.CrossEntropyLoss(weight=args['loss_weights'])"
   ]
  },
  {
   "cell_type": "markdown",
   "metadata": {},
   "source": [
    "## Write training loop\n",
    "\n",
    "<font color=\"green\">**What can you do here to prevent overfitting?**\n",
    "<br>\n",
    "For example, you can use early stopping or only save the best model found during validation and use it for inference.</font> "
   ]
  },
  {
   "cell_type": "code",
   "execution_count": 52,
   "metadata": {},
   "outputs": [
    {
     "name": "stderr",
     "output_type": "stream",
     "text": [
      "2022-02-14 13:47:43 Qilab-003 __main__[545493] INFO Start Training\n"
     ]
    },
    {
     "data": {
      "application/vnd.jupyter.widget-view+json": {
       "model_id": "4ad8457a33d84b0f96398d0788378da0",
       "version_major": 2,
       "version_minor": 0
      },
      "text/plain": [
       "  0%|          | 0/10 [00:00<?, ?it/s]"
      ]
     },
     "metadata": {},
     "output_type": "display_data"
    },
    {
     "data": {
      "application/vnd.jupyter.widget-view+json": {
       "model_id": "8257cadd30aa40e68130034839a89404",
       "version_major": 2,
       "version_minor": 0
      },
      "text/plain": [
       "  0%|          | 0/9029 [00:00<?, ?it/s]"
      ]
     },
     "metadata": {},
     "output_type": "display_data"
    },
    {
     "data": {
      "application/vnd.jupyter.widget-view+json": {
       "model_id": "19c63394716a469ba06e027bcd8890c8",
       "version_major": 2,
       "version_minor": 0
      },
      "text/plain": [
       "  0%|          | 0/9029 [00:00<?, ?it/s]"
      ]
     },
     "metadata": {},
     "output_type": "display_data"
    },
    {
     "data": {
      "application/vnd.jupyter.widget-view+json": {
       "model_id": "2eab18babb2d45858c487c4cf0707f0d",
       "version_major": 2,
       "version_minor": 0
      },
      "text/plain": [
       "  0%|          | 0/9029 [00:00<?, ?it/s]"
      ]
     },
     "metadata": {},
     "output_type": "display_data"
    },
    {
     "data": {
      "application/vnd.jupyter.widget-view+json": {
       "model_id": "0a1c6f73c72f477d82a647c080f82b13",
       "version_major": 2,
       "version_minor": 0
      },
      "text/plain": [
       "  0%|          | 0/9029 [00:00<?, ?it/s]"
      ]
     },
     "metadata": {},
     "output_type": "display_data"
    },
    {
     "data": {
      "application/vnd.jupyter.widget-view+json": {
       "model_id": "262a613e9f644d04864cda8eb813ae9b",
       "version_major": 2,
       "version_minor": 0
      },
      "text/plain": [
       "  0%|          | 0/9029 [00:00<?, ?it/s]"
      ]
     },
     "metadata": {},
     "output_type": "display_data"
    },
    {
     "data": {
      "application/vnd.jupyter.widget-view+json": {
       "model_id": "07f4d46290c1402083a7216a71b452af",
       "version_major": 2,
       "version_minor": 0
      },
      "text/plain": [
       "  0%|          | 0/9029 [00:00<?, ?it/s]"
      ]
     },
     "metadata": {},
     "output_type": "display_data"
    },
    {
     "data": {
      "application/vnd.jupyter.widget-view+json": {
       "model_id": "93d3b4d1f8e248b19880c2ecc945ff46",
       "version_major": 2,
       "version_minor": 0
      },
      "text/plain": [
       "  0%|          | 0/9029 [00:00<?, ?it/s]"
      ]
     },
     "metadata": {},
     "output_type": "display_data"
    },
    {
     "data": {
      "application/vnd.jupyter.widget-view+json": {
       "model_id": "aa6d0f78149a430ba3883717453ed17a",
       "version_major": 2,
       "version_minor": 0
      },
      "text/plain": [
       "  0%|          | 0/9029 [00:00<?, ?it/s]"
      ]
     },
     "metadata": {},
     "output_type": "display_data"
    },
    {
     "data": {
      "application/vnd.jupyter.widget-view+json": {
       "model_id": "a473f726ff9b412388288e90b0eeb367",
       "version_major": 2,
       "version_minor": 0
      },
      "text/plain": [
       "  0%|          | 0/9029 [00:00<?, ?it/s]"
      ]
     },
     "metadata": {},
     "output_type": "display_data"
    },
    {
     "data": {
      "application/vnd.jupyter.widget-view+json": {
       "model_id": "579909982e974baba31402d35f511696",
       "version_major": 2,
       "version_minor": 0
      },
      "text/plain": [
       "  0%|          | 0/9029 [00:00<?, ?it/s]"
      ]
     },
     "metadata": {},
     "output_type": "display_data"
    },
    {
     "name": "stderr",
     "output_type": "stream",
     "text": [
      "2022-02-14 13:47:58 Qilab-003 __main__[545493] INFO End of training\n"
     ]
    }
   ],
   "source": [
    "best_loss = np.inf # for find best model on validation set\n",
    "eval_steps_since_last_better_model = 0 # for find best model on validation set \n",
    "if args['do_train']:\n",
    "\n",
    "    model.train()\n",
    "    steps=0\n",
    "    steps_since_last_eval=0\n",
    "    logger.info('Start Training')\n",
    "    for epoch in tqdm(range(args['num_epochs'])):\n",
    "\n",
    "        writer_dict['epochs'].append(epoch)\n",
    "        writer.add_scalar('utils/epochs', epoch, steps) # for tensorboard\n",
    "\n",
    "        for batch in tqdm(dataloader.train, leave=False):\n",
    "            steps += 1\n",
    "            steps_since_last_eval +=1\n",
    "\n",
    "            if steps > num_steps: break\n",
    "\n",
    "            inputs, targets = batch\n",
    "            inputs = inputs.to(args['device'])\n",
    "            targets = targets.squeeze(dim=1).long().to(args['device'])\n",
    "            outputs = model(inputs)\n",
    "            loss = loss_function(outputs, targets)\n",
    "\n",
    "            loss.backward()\n",
    "            optimizer.step()\n",
    "            scheduler.step()\n",
    "            optimizer.zero_grad()\n",
    "            writer_dict['walltime'].append( time.time() )\n",
    "            lr = optimizer.param_groups[0]['lr']\n",
    "            writer_dict['lr'].append(lr)\n",
    "            writer.add_scalar('utils/lr', lr, steps)\n",
    "            loss = loss.detach().cpu().numpy()\n",
    "            writer_dict['loss_train'].append(loss)\n",
    "            writer.add_scalar('loss/train', loss, steps)\n",
    "\n",
    "            if steps_since_last_eval >= args['eval_steps']:\n",
    "                steps_since_last_eval = 0\n",
    "                if dataloader.validate is not None:\n",
    "                    model.eval()\n",
    "                    mean_loss = 0\n",
    "                    for batch in dataloader.validate:\n",
    "                        inputs, targets = batch\n",
    "                        inputs = inputs.to(args['device'])\n",
    "                        targets = targets.squeeze(dim=1).long().to(args['device'])\n",
    "                        outputs = model(inputs)\n",
    "                        mean_loss += loss_function(outputs, targets).detach().cpu().numpy()\n",
    "\n",
    "                    mean_loss /= len(dataloader.validate)\n",
    "                    writer_dict['loss_valid'].append(mean_loss)\n",
    "                    writer.add_scalar('loss/valid', mean_loss, steps) # for tensorboard\n",
    "                    \n",
    "                    # Save best model\n",
    "                    model.train()\n",
    "                    if mean_loss < best_loss:\n",
    "\n",
    "                        best_loss = mean_loss\n",
    "                        eval_steps_since_last_better_model = 0\n",
    "\n",
    "                        with open( args['output_dir']+'best_loss.txt', 'w') as file:\n",
    "                            print( f'loss {best_loss}\\n step {steps}', file=file )\n",
    "\n",
    "                        torch.save({\n",
    "                                    'step': steps,\n",
    "                                    'model_state_dict': model.state_dict(),\n",
    "                                    'optimizer_state_dict': optimizer.state_dict()\n",
    "                                   }, args['output_dir']+'best_model.pth')\n",
    "                    else:\n",
    "                        # validation loss is higher than the best loss find in previous iterations \n",
    "                        # count steps for early stopping\n",
    "                        eval_steps_since_last_better_model += 1 \n",
    "                        \n",
    "                if args['do_early_stopping']:\n",
    "                    if eval_steps_since_last_better_model >= args['early_stopping_patience']: break\n",
    "\n",
    "            if steps >= num_steps: break\n",
    "\n",
    "    with open( args['output_dir']+'last_loss.txt', 'w') as file:\n",
    "        print( f'loss {mean_loss}\\n step {steps}', file=file )\n",
    "\n",
    "    torch.save({\n",
    "                'step': steps,\n",
    "                'model_state_dict': model.state_dict(),\n",
    "                'optimizer_state_dict': optimizer.state_dict()\n",
    "               }, args['output_dir']+'last_model.pth')\n",
    "\n",
    "    save_obj_pkl( args['output_dir']+'tensorboard_writer.pkl', writer_dict )       \n",
    "    writer.close()\n",
    "    logger.info(f'End of training')"
   ]
  },
  {
   "cell_type": "markdown",
   "metadata": {},
   "source": [
    "## Evaluate your model\n",
    "If you only want to evualate your model on the validation and test set, you have to set args['do_eval'] to True.\n",
    "<br>\n",
    "Then the evaluation function will be called after the training is completed. "
   ]
  },
  {
   "cell_type": "code",
   "execution_count": 53,
   "metadata": {},
   "outputs": [
    {
     "name": "stderr",
     "output_type": "stream",
     "text": [
      "2022-02-14 13:47:58 Qilab-003 __main__[545493] INFO Start evaluation valid\n",
      "2022-02-14 13:48:16 Qilab-003 __main__[545493] INFO Start evaluation test\n"
     ]
    }
   ],
   "source": [
    "if args['do_eval']:\n",
    "    if dataloader.validate is not None:\n",
    "        logger.info('Start evaluation valid')\n",
    "        eval_model(args, model, dataloader.validate, dataset='valid')\n",
    "\n",
    "    if dataloader.test is not None:\n",
    "        logger.info('Start evaluation test')\n",
    "        eval_model(args, model, dataloader.test, dataset='test')\n"
   ]
  }
 ],
 "metadata": {
  "kernelspec": {
   "display_name": "Python 3",
   "language": "python",
   "name": "python3"
  },
  "language_info": {
   "codemirror_mode": {
    "name": "ipython",
    "version": 3
   },
   "file_extension": ".py",
   "mimetype": "text/x-python",
   "name": "python",
   "nbconvert_exporter": "python",
   "pygments_lexer": "ipython3",
   "version": "3.7.10"
  }
 },
 "nbformat": 4,
 "nbformat_minor": 4
}
