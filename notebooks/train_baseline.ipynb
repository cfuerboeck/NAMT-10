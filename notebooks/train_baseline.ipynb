{
 "cells": [
  {
   "cell_type": "markdown",
   "metadata": {},
   "source": [
    "# Training script for NAMT-10 Hackathon\n",
    "**Learning outcome:** Train a classification model (one vs. all)\n",
    "<br> \n",
    "Therefore, use the CheXpertDataLoader from the first day and use it for training and evaluating your model.\n",
    "<br>\n",
    "<br>\n",
    "\n",
    "Some challenges, you should keep in mind:\n",
    "1. What can you do to handle data imbalance? \n",
    "2. What can you do to learn from few samples and how can you prevent overfitting? \n"
   ]
  },
  {
   "cell_type": "code",
   "execution_count": 4,
   "metadata": {},
   "outputs": [],
   "source": [
    "import logging\n",
    "import os\n",
    "import random\n",
    "import sys\n",
    "import argparse\n",
    "import json\n",
    "import pickle\n",
    "import time\n",
    "import inspect\n",
    "from pathlib import Path\n",
    "import numpy as np\n",
    "import torch\n",
    "from torch.optim.lr_scheduler import OneCycleLR\n",
    "from torch.utils.tensorboard import SummaryWriter\n",
    "\n",
    "from tqdm.notebook import tqdm\n",
    "import timm\n",
    "import timm.optim\n",
    "\n",
    "\n",
    "from sklearn.metrics import (\n",
    "    accuracy_score)\n",
    "                         \n",
    "from key2med.data.loader import CheXpertDataLoader, ColorCheXpertDataLoader, StudiesDataLoader\n",
    "from key2med.models.CBRTiny import CBRTiny\n"
   ]
  },
  {
   "cell_type": "code",
   "execution_count": 3,
   "metadata": {},
   "outputs": [],
   "source": [
    "# Set logger \n",
    "logger = logging.getLogger(__name__)"
   ]
  },
  {
   "cell_type": "markdown",
   "metadata": {},
   "source": [
    "## Define some basic functions\n",
    "### Functions for saving / loading pickle objects\n",
    "During training we want to save the current epoch, training and validation loss, etc. to monitor our model performance"
   ]
  },
  {
   "cell_type": "code",
   "execution_count": 4,
   "metadata": {},
   "outputs": [],
   "source": [
    "def save_obj_pkl(path, obj):\n",
    "    with open( path, 'wb') as f:\n",
    "        pickle.dump(obj, f, pickle.HIGHEST_PROTOCOL)\n",
    "\n",
    "def load_obj_pkl(path ):\n",
    "    with open( path, 'rb') as f:\n",
    "        return pickle.load(f)"
   ]
  },
  {
   "cell_type": "markdown",
   "metadata": {},
   "source": [
    "### Functions for evaluating your model\n",
    "You can either write your own evaluation metris and save it as a metric_dict or use pre-defined metrics from sklearn\n",
    "<br>\n",
    "**Which metrics are suitable to evaluate your model performance?**"
   ]
  },
  {
   "cell_type": "code",
   "execution_count": 5,
   "metadata": {},
   "outputs": [],
   "source": [
    "# Define evaluation metrics you want to use    \n",
    "def get_metric_dict(preds, y_true, y_pred):\n",
    "    metric_dict['Acc'] = accuracy_score(y_true, y_pred)\n",
    "    return metric_dict\n",
    "\n",
    "# Define a evaluation function \n",
    "def eval_model(args, model, dataloader, dataset='valid'):\n",
    "    \n",
    "    model.eval()\n",
    "    \n",
    "    preds = []\n",
    "    y_preds = []\n",
    "    y_true = []\n",
    "    for batch in dataloader:\n",
    "        inputs, targets = batch\n",
    "        inputs = inputs.to(args['device'])\n",
    "        targets = targets.squeeze(dim=1).detach().cpu().numpy()\n",
    "        y_true += list(targets)\n",
    "        cur_preds = torch.nn.functional.softmax(model(inputs), dim=-1).detach().cpu().numpy()\n",
    "        preds += list(cur_preds)\n",
    "        y_preds += list( (cur_preds[:,1] > 0.5).astype(int))\n",
    "        \n",
    "    preds, y_preds, y_true =  np.asarray(preds), np.asarray(y_preds), np.asarray(y_true)\n",
    "    metric_dict = get_metric_dict(preds, y_true, y_preds)\n",
    "    with open(args['output_dir']+f'results_{dataset}_{args[\"class_positive\"]}.json', 'w', encoding='utf-8') as file:\n",
    "        json.dump(metric_dict, file, indent=2)\n",
    "    with open(args['output_dir']+f'results_{dataset}_{args[\"class_positive\"]}.pkl', 'wb') as file:\n",
    "        pickle.dump([metric_dict, y_true, y_preds, preds], file)"
   ]
  },
  {
   "cell_type": "markdown",
   "metadata": {},
   "source": [
    "## Define training settings \n",
    "For example define data path, batch size, number of epochs, etc.\n",
    "<br>\n",
    "Also specify here the class you are working with (Edema, Atelectasis, Cardiomegaly, Consolidation, Pleural Effusion)"
   ]
  },
  {
   "cell_type": "markdown",
   "metadata": {},
   "source": [
    "## Set default settings"
   ]
  },
  {
   "cell_type": "code",
   "execution_count": 15,
   "metadata": {},
   "outputs": [
    {
     "data": {
      "text/plain": [
       "{'seed': 42,\n",
       " 'data_dir': '/home/admin_ml/NAMT/data/CheXpert-v1.0-small',\n",
       " 'class_positive': 'Edema',\n",
       " 'channel_in': 3,\n",
       " 'model_to_load_dir': None,\n",
       " 'output_dir': '/media/admin_ml/D0-P1/2022_Namt/NAMT-10-master/training_output/',\n",
       " 'num_epochs': 10,\n",
       " 'max_steps': -1,\n",
       " 'do_train': True,\n",
       " 'max_dataloader_size': None,\n",
       " 'view': 'Frontal',\n",
       " 'batch_size': 24,\n",
       " 'num_workers': 4,\n",
       " 'lr': 0.001,\n",
       " 'wd': 1e-06,\n",
       " 'do_eval': True,\n",
       " 'eval_steps': 500,\n",
       " 'no_cuda': False,\n",
       " 'basePath': '/media/admin_ml/D0-P1/2022_Namt/NAMT-10-master/',\n",
       " 'device': device(type='cuda', index=0)}"
      ]
     },
     "execution_count": 15,
     "metadata": {},
     "output_type": "execute_result"
    }
   ],
   "source": [
    "args = {'seed': 42, # Set seed number if you want to reproduce results, else set it to None\n",
    "        'data_dir': '/home/admin_ml/NAMT/data/CheXpert-v1.0-small', # path to Chexpert data\n",
    "        'class_positive': 'Edema', # Set class name you are working on for one vs. all classification\n",
    "        'channel_in': 3, # Number of input channels (3 because of color for pre-trained imagenet)\n",
    "        'model_to_load_dir': None, # model path, if you want to continue training\n",
    "        'output_dir': None,\n",
    "        'num_epochs': 10, # number of epochs for training the model\n",
    "        'max_steps': -1, # Total number of training steps. Low number for debugging, negative number for no limit.\n",
    "        'do_train': True, \n",
    "        'max_dataloader_size': None, # Set to low number for debugging. default = None (no limit) \n",
    "        'view': 'Frontal', # For DataLoader, do you want to load Frontal, Lateral or both views?\n",
    "        'batch_size': 24,\n",
    "        'num_workers': 4, # For DataLoader\n",
    "        'lr': 1e-3, # initial learning rate \n",
    "        'wd': 1e-6, # weight decay \n",
    "        'do_eval': True, # set to True if validation and test data should be evaluated after training\n",
    "        'eval_steps': 500, # Number of batches/steps to eval. Default 500.\n",
    "        'no_cuda': False,\n",
    "       }\n",
    "\n",
    "args['basePath'] = os.path.dirname(os.path.realpath(globals()['_dh'][0]))+os.sep\n",
    "\n",
    "if args['output_dir'] is None:\n",
    "    args['output_dir'] = f'{args[\"basePath\"]}training_output{os.sep}'\n",
    "else:\n",
    "    if args['output_dir'][-1] != os.sep: args['output_dir'] += os.sep\n",
    "\n",
    "if args['model_to_load_dir'] is not None:\n",
    "    if args['model_to_load_dir'][-1] != os.sep: args['model_to_load_dir'] += os.sep\n",
    "\n",
    "# set device (cuda if available or cpu)\n",
    "args['device'] = torch.device('cuda:0' if (torch.cuda.is_available() and not args['no_cuda']) else 'cpu')   \n",
    " \n",
    "args"
   ]
  },
  {
   "cell_type": "markdown",
   "metadata": {},
   "source": [
    "Setup logging"
   ]
  },
  {
   "cell_type": "code",
   "execution_count": null,
   "metadata": {},
   "outputs": [],
   "source": [
    "# Setup logging\n",
    "logging.basicConfig(\n",
    "    format=\"%(asctime)s - %(levelname)s - %(name)s - %(message)s\",\n",
    "    datefmt=\"%m/%d/%Y %H:%M:%S\",\n",
    "    handlers=[logging.StreamHandler(sys.stdout)],\n",
    "    filename=args['output_dir']+'train.log',\n",
    "    filemode='w',)"
   ]
  },
  {
   "cell_type": "markdown",
   "metadata": {},
   "source": [
    "Set seed if args['seed'] is not None, to reproduce your results later on"
   ]
  },
  {
   "cell_type": "code",
   "execution_count": 11,
   "metadata": {},
   "outputs": [],
   "source": [
    "g = None # Generator for seed\n",
    "worker_init_fn = None\n",
    "if args['seed'] is not None:\n",
    "    logger.info(f'Applying seed {args[\"seed\"]}')\n",
    "    #https://pytorch.org/docs/stable/notes/randomness.html\n",
    "    torch.manual_seed(args['seed'])\n",
    "    random.seed(args['seed'])\n",
    "    np.random.seed(args['seed'])\n",
    "    g = torch.Generator()\n",
    "    g.manual_seed(args['seed'])"
   ]
  },
  {
   "cell_type": "markdown",
   "metadata": {},
   "source": [
    "## Reading in the data\n",
    "Use the ColorChexpetDataLoader from key2med.data.loader"
   ]
  },
  {
   "cell_type": "code",
   "execution_count": null,
   "metadata": {},
   "outputs": [],
   "source": [
    "dataloader = ColorCheXpertDataLoader( #CheXpertDataLoader #for 1 ch\n",
    "        data_path=args['data_dir'],\n",
    "        batch_size=args['batch_size'],\n",
    "        img_resize=224,\n",
    "        splits=\"train_valid_test\",\n",
    "        channels=args['channel_in'],\n",
    "        do_random_transform=True,\n",
    "        use_cache=False,\n",
    "        in_memory=True,\n",
    "        max_size= args['max_dataloader_size'],\n",
    "        plot_stats=False,\n",
    "        n_workers=args['num_workers'],\n",
    "        frontal_lateral_values = [args['view']], \n",
    "        label_filter = [args['class_positive']],\n",
    "        uncertain_to_one = [args['class_positive']],\n",
    "        uncertain_to_zero = [],\n",
    "    )"
   ]
  },
  {
   "cell_type": "markdown",
   "metadata": {},
   "source": [
    "## Define the model you want to use for training\n",
    "You can use here your own implemented model or the CBRTiny model by Raghu et al. (https://arxiv.org/pdf/1902.07208.pdf), which is already implemented (from key2med.models.CBRTiny import CBRTiny)"
   ]
  },
  {
   "cell_type": "code",
   "execution_count": 12,
   "metadata": {},
   "outputs": [
    {
     "ename": "NameError",
     "evalue": "name 'CBRTiny' is not defined",
     "output_type": "error",
     "traceback": [
      "\u001b[0;31m---------------------------------------------------------------------------\u001b[0m",
      "\u001b[0;31mNameError\u001b[0m                                 Traceback (most recent call last)",
      "\u001b[0;32m<ipython-input-12-ef73d0507111>\u001b[0m in \u001b[0;36m<module>\u001b[0;34m\u001b[0m\n\u001b[0;32m----> 1\u001b[0;31m \u001b[0mmodel\u001b[0m \u001b[0;34m=\u001b[0m \u001b[0mCBRTiny\u001b[0m\u001b[0;34m(\u001b[0m\u001b[0mnum_classes\u001b[0m\u001b[0;34m=\u001b[0m\u001b[0;36m2\u001b[0m\u001b[0;34m,\u001b[0m \u001b[0mchannel_in\u001b[0m\u001b[0;34m=\u001b[0m\u001b[0margs\u001b[0m\u001b[0;34m[\u001b[0m\u001b[0;34m'channel_in'\u001b[0m\u001b[0;34m]\u001b[0m\u001b[0;34m)\u001b[0m\u001b[0;34m.\u001b[0m\u001b[0mto\u001b[0m\u001b[0;34m(\u001b[0m\u001b[0margs\u001b[0m\u001b[0;34m[\u001b[0m\u001b[0;34m'device'\u001b[0m\u001b[0;34m]\u001b[0m\u001b[0;34m)\u001b[0m\u001b[0;34m\u001b[0m\u001b[0;34m\u001b[0m\u001b[0m\n\u001b[0m",
      "\u001b[0;31mNameError\u001b[0m: name 'CBRTiny' is not defined"
     ]
    }
   ],
   "source": [
    "model = CBRTiny(num_classes=2, channel_in=args['channel_in']).to(args['device'])"
   ]
  },
  {
   "cell_type": "markdown",
   "metadata": {},
   "source": [
    "Another option is to use the timm library, where many well-known models are already implemented.\n",
    "<br>\n",
    "You can find the timm documentation here: https://fastai.github.io/timmdocs/\n",
    "<br>\n",
    "You can call up for example all existing pretrained efficient models in this way:"
   ]
  },
  {
   "cell_type": "code",
   "execution_count": null,
   "metadata": {},
   "outputs": [],
   "source": [
    "avail_pretrained_models = timm.list_models('eff*',pretrained=True)\n",
    "# List number of all found models and the first five models\n",
    "len(avail_pretrained_models), avail_pretrained_models[:5]"
   ]
  },
  {
   "cell_type": "markdown",
   "metadata": {},
   "source": [
    "We use here for example the efficientnetb0 model, pretrained on ImageNet (Set num_classes to 2 for one vs. all classification):"
   ]
  },
  {
   "cell_type": "code",
   "execution_count": null,
   "metadata": {},
   "outputs": [],
   "source": [
    "model = timm.create_model('efficientnet_b0', num_classes=2, in_chans=args['channel_in'], pretrained=True).to(args['device'])"
   ]
  },
  {
   "cell_type": "markdown",
   "metadata": {},
   "source": [
    "If you have already startet the training, you can load the last checkpoint in this way:"
   ]
  },
  {
   "cell_type": "code",
   "execution_count": 13,
   "metadata": {},
   "outputs": [],
   "source": [
    "if args['model_to_load_dir'] is not None:\n",
    "    checkpoint = torch.load(osp.join(args['model_to_load_dir'], 'best_model.pth'))\n",
    "    model.load_state_dict(checkpoint['model_state_dict'])"
   ]
  },
  {
   "cell_type": "markdown",
   "metadata": {},
   "source": [
    "## Define optimizer and learning rate scheduler\n",
    "With timm library you can also use many pred-defined optimizers.\n",
    "<br>\n",
    "List all available optimizers:"
   ]
  },
  {
   "cell_type": "code",
   "execution_count": null,
   "metadata": {},
   "outputs": [],
   "source": [
    "[cls_name for cls_name, cls_obj in inspect.getmembers(timm.optim) if inspect.isclass(cls_obj) if cls_name !='Lookahead']"
   ]
  },
  {
   "cell_type": "markdown",
   "metadata": {},
   "source": [
    "Here, we use for example the *AdamP* Optimizer"
   ]
  },
  {
   "cell_type": "code",
   "execution_count": null,
   "metadata": {},
   "outputs": [],
   "source": [
    "optimizer = timm.optim.create_optimizer_v2(model,\n",
    "                                           optimizer_name='AdamP',\n",
    "                                           learning_rate=args['lr'],\n",
    "                                           weight_decay=args['wd'])"
   ]
  },
  {
   "cell_type": "markdown",
   "metadata": {},
   "source": [
    "Now we define a learning rate scheduler using pytorch (for more infos https://pytorch.org/docs/stable/optim.html)\n",
    "<br>\n",
    "We can use for example the One Cylce Learning Rate Scheduler:"
   ]
  },
  {
   "cell_type": "code",
   "execution_count": null,
   "metadata": {},
   "outputs": [],
   "source": [
    "num_steps = args['num_epochs']*len(dataloader.train) if args['max_steps']<0 else args['max_steps'] #for Debug !\n",
    "scheduler = torch.optim.lr_scheduler.OneCycleLR(optimizer,\n",
    "                                                max_lr=args['lr'],\n",
    "                                                total_steps=num_steps)  "
   ]
  },
  {
   "cell_type": "markdown",
   "metadata": {},
   "source": [
    "## Use tensorboard for monitoring your model performance\n",
    "To do this, you need to set up a *SummaryWriter* that stores the current epoch count, current learning rate, training and validation loss, and current time.\n",
    "<br>\n",
    "Also, we store everything in the dictionary *writer_dict*, so you can create your own plots at the end."
   ]
  },
  {
   "cell_type": "code",
   "execution_count": null,
   "metadata": {},
   "outputs": [],
   "source": [
    "Path(args['output_dir']).mkdir(parents=True, exist_ok=True)  \n",
    "\n",
    "writer = SummaryWriter(args['output_dir']+os.sep+'runs')\n",
    "writer_dict = {\n",
    "                'epochs': [],#np.zeros(howOftenValid*howOftenRepeat,dtype=int),\n",
    "                'lr': [], #np.zeros(howOftenValid*howOftenRepeat),\n",
    "                'loss_train': [],#np.zeros(howOftenValid*howOftenRepeat),\n",
    "                'loss_valid': [],#np.zeros(howOftenValid*howOftenRepeat),\n",
    "                'walltime': [],#np.zeros(howOftenValid*howOftenRepeat)\n",
    "                }"
   ]
  },
  {
   "cell_type": "markdown",
   "metadata": {},
   "source": [
    "## Define loss function\n",
    "You can for example use the cross entropy loss for a classification task"
   ]
  },
  {
   "cell_type": "code",
   "execution_count": null,
   "metadata": {},
   "outputs": [],
   "source": [
    "# Define cross entropy loss\n",
    "loss_function = torch.nn.CrossEntropyLoss()"
   ]
  },
  {
   "cell_type": "markdown",
   "metadata": {},
   "source": [
    "## Write training loop"
   ]
  },
  {
   "cell_type": "code",
   "execution_count": null,
   "metadata": {},
   "outputs": [],
   "source": [
    "if args['do_train']:\n",
    "    model.train()\n",
    "    steps=0\n",
    "    steps_since_last_eval=0\n",
    "    logger.info('Start Training')\n",
    "    for epoch in tqdm(range(args['num_epochs'])):\n",
    "\n",
    "        writer_dict['epochs'].append(epoch)\n",
    "        writer.add_scalar('utils/epochs', epoch, steps) # for tensorboard\n",
    "\n",
    "        for batch in tqdm(dataloader.train, leave=False):\n",
    "            steps += 1\n",
    "            steps_since_last_eval +=1\n",
    "\n",
    "            if steps > num_steps: break\n",
    "\n",
    "            inputs, targets = batch\n",
    "            inputs = inputs.to(args['device'])\n",
    "            targets = targets.squeeze(dim=1).long().to(args['device'])\n",
    "            outputs = model(inputs)\n",
    "            loss = loss_function(outputs, targets)\n",
    "\n",
    "            loss.backward()\n",
    "            optimizer.step()\n",
    "            scheduler.step()\n",
    "            optimizer.zero_grad()\n",
    "            writer_dict['walltime'].append( time.time() )\n",
    "            lr = optimizer.param_groups[0]['lr']\n",
    "            writer_dict['lr'].append(lr)\n",
    "            writer.add_scalar('utils/lr', lr, steps)\n",
    "            loss = loss.detach().cpu().numpy()\n",
    "            writer_dict['loss_train'].append(loss)\n",
    "            writer.add_scalar('loss/train', loss, steps)\n",
    "\n",
    "            if steps_since_last_eval >= args['eval_steps']:\n",
    "                steps_since_last_eval = 0\n",
    "                if dataloader.validate is not None:\n",
    "                    model.eval()\n",
    "                    mean_loss = 0\n",
    "                    for batch in dataloader.validate:\n",
    "                        inputs, targets = batch\n",
    "                        inputs = inputs.to(args['device'])\n",
    "                        targets = targets.squeeze(dim=1).long().to(args['device'])\n",
    "                        outputs = model(inputs)\n",
    "                        mean_loss += loss_function(outputs, targets).detach().cpu().numpy()\n",
    "\n",
    "                    mean_loss /= len(dataloader.validate)\n",
    "                    writer_dict['loss_valid'].append(mean_loss)\n",
    "                    writer.add_scalar('loss/valid', mean_loss, steps) # for tensorboard\n",
    "                    \n",
    "            if steps >= num_steps: break\n",
    "\n",
    "    with open( args['output_dir']+'last_loss.txt', 'w') as file:\n",
    "        print( f'loss {mean_loss}\\n step {steps}', file=file )\n",
    "\n",
    "    torch.save({\n",
    "                'step': steps,\n",
    "                'model_state_dict': model.state_dict(),\n",
    "                'optimizer_state_dict': optimizer.state_dict()\n",
    "               }, args['output_dir']+'last_model.pth')\n",
    "\n",
    "    save_obj_pkl( args['output_dir']+'tensorboard_writer.pkl', writer_dict )       \n",
    "    writer.close()\n",
    "    logger.info(f'End of training')"
   ]
  },
  {
   "cell_type": "markdown",
   "metadata": {},
   "source": [
    "## Evaluate your model\n",
    "If you want to evualate your model on the validation and test sets, you have to set args['do_eval'] to True.\n",
    "<br>\n",
    "Then the evaluation function will be called after the training is completed. "
   ]
  },
  {
   "cell_type": "code",
   "execution_count": null,
   "metadata": {},
   "outputs": [],
   "source": [
    "if args['do_eval']:\n",
    "    if dataloader.validate is not None:\n",
    "        logger.info('Start evaluation valid')\n",
    "        eval_model(args, model, dataloader.validate, dataset='valid')\n",
    "\n",
    "    if dataloader.test is not None:\n",
    "        logger.info('Start evaluation test')\n",
    "        eval_model(args, model, dataloader.test, dataset='test')\n"
   ]
  }
 ],
 "metadata": {
  "kernelspec": {
   "display_name": "Python 3",
   "language": "python",
   "name": "python3"
  },
  "language_info": {
   "codemirror_mode": {
    "name": "ipython",
    "version": 3
   },
   "file_extension": ".py",
   "mimetype": "text/x-python",
   "name": "python",
   "nbconvert_exporter": "python",
   "pygments_lexer": "ipython3",
   "version": "3.7.10"
  }
 },
 "nbformat": 4,
 "nbformat_minor": 4
}
